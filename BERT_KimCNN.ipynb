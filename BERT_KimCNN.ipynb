{
  "nbformat": 4,
  "nbformat_minor": 0,
  "metadata": {
    "colab": {
      "name": "Copy of Untitled0.ipynb",
      "provenance": [],
      "collapsed_sections": []
    },
    "kernelspec": {
      "name": "python3",
      "display_name": "Python 3"
    },
    "accelerator": "TPU"
  },
  "cells": [
    {
      "cell_type": "code",
      "metadata": {
        "id": "YzODz9UnLG9l",
        "colab_type": "code",
        "outputId": "8d3b67e7-47da-41ec-85bc-ad24609dc929",
        "colab": {
          "base_uri": "https://localhost:8080/",
          "height": 224
        }
      },
      "source": [
        "!pip install tweet-preprocessor\n",
        "import pandas as pd\n",
        "import numpy as np\n",
        "import scipy as sp\n",
        "import re\n",
        "import nltk\n",
        "from bs4 import BeautifulSoup\n",
        "from nltk.corpus import stopwords\n",
        "from copy import deepcopy\n",
        "from bs4 import BeautifulSoup\n",
        "import nltk\n",
        "nltk.download('stopwords')\n",
        "from nltk.stem import PorterStemmer \n",
        "\n",
        "import preprocessor as p"
      ],
      "execution_count": 0,
      "outputs": [
        {
          "output_type": "stream",
          "text": [
            "Collecting tweet-preprocessor\n",
            "  Downloading https://files.pythonhosted.org/packages/2a/f8/810ec35c31cca89bc4f1a02c14b042b9ec6c19dd21f7ef1876874ef069a6/tweet-preprocessor-0.5.0.tar.gz\n",
            "Building wheels for collected packages: tweet-preprocessor\n",
            "  Building wheel for tweet-preprocessor (setup.py) ... \u001b[?25l\u001b[?25hdone\n",
            "  Created wheel for tweet-preprocessor: filename=tweet_preprocessor-0.5.0-cp36-none-any.whl size=7947 sha256=9be9baa4fdb741d5394a50a2cf30393f5fa4a2b89282bff6cc675880a5b5083a\n",
            "  Stored in directory: /root/.cache/pip/wheels/1b/27/cc/49938e98a2470802ebdefae9d2b3f524768e970c1ebbe2dc4a\n",
            "Successfully built tweet-preprocessor\n",
            "Installing collected packages: tweet-preprocessor\n",
            "Successfully installed tweet-preprocessor-0.5.0\n",
            "[nltk_data] Downloading package stopwords to /root/nltk_data...\n",
            "[nltk_data]   Unzipping corpora/stopwords.zip.\n"
          ],
          "name": "stdout"
        }
      ]
    },
    {
      "cell_type": "code",
      "metadata": {
        "id": "AimXkFvuLIp_",
        "colab_type": "code",
        "outputId": "a7cfe5ec-da44-456c-dc0b-c1fe966427ec",
        "colab": {
          "base_uri": "https://localhost:8080/",
          "height": 122
        }
      },
      "source": [
        "from google.colab import drive\n",
        "drive.mount('/content/drive')"
      ],
      "execution_count": 0,
      "outputs": [
        {
          "output_type": "stream",
          "text": [
            "Go to this URL in a browser: https://accounts.google.com/o/oauth2/auth?client_id=947318989803-6bn6qk8qdgf4n4g3pfee6491hc0brc4i.apps.googleusercontent.com&redirect_uri=urn%3aietf%3awg%3aoauth%3a2.0%3aoob&response_type=code&scope=email%20https%3a%2f%2fwww.googleapis.com%2fauth%2fdocs.test%20https%3a%2f%2fwww.googleapis.com%2fauth%2fdrive%20https%3a%2f%2fwww.googleapis.com%2fauth%2fdrive.photos.readonly%20https%3a%2f%2fwww.googleapis.com%2fauth%2fpeopleapi.readonly\n",
            "\n",
            "Enter your authorization code:\n",
            "··········\n",
            "Mounted at /content/drive\n"
          ],
          "name": "stdout"
        }
      ]
    },
    {
      "cell_type": "code",
      "metadata": {
        "id": "XqF_j4oJLKZp",
        "colab_type": "code",
        "colab": {}
      },
      "source": [
        "data = pd.read_csv(\"/content/drive/My Drive/WebProject/labeledTrainData.csv\", delimiter=\"\\t\",names=[\"tweet\", \"label\", \"labelValue\"])"
      ],
      "execution_count": 0,
      "outputs": []
    },
    {
      "cell_type": "code",
      "metadata": {
        "id": "NmTPyGQkLP08",
        "colab_type": "code",
        "colab": {}
      },
      "source": [
        "data[\"label\"].replace({\"spam\": \"neutral\", \"normal\": \"neutral\"}, inplace=True)\n",
        "data[\"label\"].replace({\"neutral\":1, \"abusive\": 2,\"hateful\":3}, inplace=True)"
      ],
      "execution_count": 0,
      "outputs": []
    },
    {
      "cell_type": "code",
      "metadata": {
        "id": "ypCPbXC3_Wda",
        "colab_type": "code",
        "colab": {}
      },
      "source": [
        "def preprocess_tweet(tweet):\n",
        "\n",
        "    # 1. Remove URLs, emojis, mentions, smileys using tweet-preprocessor library\n",
        "    # should not remove hashtags as hashtags contains important tweet content.\n",
        "    \n",
        "    #p.set_options(p.OPT.URL, p.OPT.EMOJI, p.OPT.MENTION,p.OPT.RESERVED,\tp.OPT.SMILEY,p.OPT.NUMBER)\n",
        "    clean = p.clean(tweet)\n",
        "    # 2. Remove HTML tags using Beautiful soup library\n",
        "    no_tag = BeautifulSoup(clean).get_text()\n",
        "\n",
        "    # 3. Expanding hashtags.\n",
        "    \n",
        "    #tweets_expanded = expand_hashtags(no_tag)\n",
        "\n",
        "    # 4. Remove non letter char using re\n",
        "    letters_only = re.sub(\"[^a-zA-Z]\",\" \", no_tag)\n",
        "    #letters_only = re.sub(\"[^a-zA-Z]\",\" \", tweets_expanded)\n",
        "    \n",
        "    # 5. Convert to lower case\n",
        "    lower_case = letters_only.lower()\n",
        "    words = lower_case.split()\n",
        "\n",
        "    new_words = []\n",
        "    # ps = PorterStemmer() \n",
        "    # for w in words:\n",
        "    #     new_words.append(ps.stem(w))\n",
        "    for w in words:\n",
        "        new_words.append(w)\n",
        "    # print(new_words[0:4])\n",
        "    # 5. Remove stop words\n",
        "    # stops = set(stopwords.words(\"english\")) \n",
        "    # final_words = [w for w in new_words if not w in stops]\n",
        "    final_words = new_words\n",
        "\n",
        "    return(\" \".join( final_words ))"
      ],
      "execution_count": 0,
      "outputs": []
    },
    {
      "cell_type": "code",
      "metadata": {
        "id": "qB04tgec_XoB",
        "colab_type": "code",
        "outputId": "260e5518-7ca9-4fe9-bfaa-0af30763382a",
        "colab": {
          "base_uri": "https://localhost:8080/",
          "height": 122
        }
      },
      "source": [
        "num_tweets = data[\"tweet\"].size\n",
        "for i in range(num_tweets):\n",
        "    data[\"tweet\"][i] = preprocess_tweet(data[\"tweet\"][i])"
      ],
      "execution_count": 0,
      "outputs": [
        {
          "output_type": "stream",
          "text": [
            "/usr/local/lib/python3.6/dist-packages/ipykernel_launcher.py:4: SettingWithCopyWarning: \n",
            "A value is trying to be set on a copy of a slice from a DataFrame\n",
            "\n",
            "See the caveats in the documentation: https://pandas.pydata.org/pandas-docs/stable/user_guide/indexing.html#returning-a-view-versus-a-copy\n",
            "  after removing the cwd from sys.path.\n"
          ],
          "name": "stderr"
        }
      ]
    },
    {
      "cell_type": "code",
      "metadata": {
        "id": "KuQfgO58MgYJ",
        "colab_type": "code",
        "colab": {}
      },
      "source": [
        "hateful = data[\"label\"]==3\n",
        "hateful = data[hateful]\n",
        "hateful = hateful.sample(frac=1)\n",
        "hateful = hateful.reset_index(drop=True)\n",
        "hateful = hateful[:4333]\n",
        "hateful['hateful'] = 1\n",
        "hateful['abusive'] = 0\n",
        "hateful['neutral'] = 0"
      ],
      "execution_count": 0,
      "outputs": []
    },
    {
      "cell_type": "code",
      "metadata": {
        "id": "YJjFKw8-NFpL",
        "colab_type": "code",
        "colab": {}
      },
      "source": [
        "abusive = data[\"label\"]==2\n",
        "abusive = data[abusive]\n",
        "abusive = abusive.sample(frac=1)\n",
        "abusive = abusive.reset_index(drop=True)\n",
        "abusive = abusive[:4333]\n",
        "abusive['hateful'] = 0\n",
        "abusive['abusive'] = 1\n",
        "abusive['neutral'] = 0"
      ],
      "execution_count": 0,
      "outputs": []
    },
    {
      "cell_type": "code",
      "metadata": {
        "id": "kXwW--AmNMqf",
        "colab_type": "code",
        "colab": {}
      },
      "source": [
        "neutral = data[\"label\"]==1\n",
        "neutral = data[neutral]\n",
        "neutral = neutral.sample(frac=1)\n",
        "neutral = neutral.reset_index(drop=True)\n",
        "neutral = neutral[:4334]\n",
        "neutral['hateful'] = 0\n",
        "neutral['abusive'] = 0\n",
        "neutral['neutral'] = 1"
      ],
      "execution_count": 0,
      "outputs": []
    },
    {
      "cell_type": "code",
      "metadata": {
        "id": "_3OG7vjXOTkJ",
        "colab_type": "code",
        "colab": {}
      },
      "source": [
        "union = pd.concat([hateful, abusive,neutral])"
      ],
      "execution_count": 0,
      "outputs": []
    },
    {
      "cell_type": "code",
      "metadata": {
        "id": "ZGf1CQXkOpAN",
        "colab_type": "code",
        "colab": {}
      },
      "source": [
        "union = union.sample(frac=1)\n",
        "union = union.reset_index(drop=True)"
      ],
      "execution_count": 0,
      "outputs": []
    },
    {
      "cell_type": "code",
      "metadata": {
        "id": "5oms4I5UPDkA",
        "colab_type": "code",
        "colab": {}
      },
      "source": [
        "train = union[:10000]\n",
        "validation = union[10000:11000]\n",
        "test = union[11000:13000]"
      ],
      "execution_count": 0,
      "outputs": []
    },
    {
      "cell_type": "code",
      "metadata": {
        "id": "ryVVZUtIQOAG",
        "colab_type": "code",
        "colab": {}
      },
      "source": [
        "%matplotlib inline"
      ],
      "execution_count": 0,
      "outputs": []
    },
    {
      "cell_type": "code",
      "metadata": {
        "id": "ttk48UqMQOj4",
        "colab_type": "code",
        "outputId": "8a9501f6-db86-4eee-f698-34fd3a00f171",
        "colab": {
          "base_uri": "https://localhost:8080/",
          "height": 428
        }
      },
      "source": [
        "!pip install transformers\n",
        "\n",
        "import logging\n",
        "import time\n",
        "from platform import python_version\n",
        "\n",
        "import matplotlib\n",
        "import matplotlib.pyplot as plt\n",
        "import numpy as np\n",
        "import pandas as pd\n",
        "import sklearn\n",
        "import torch\n",
        "import torch.nn as nn\n",
        "import torch.nn.functional as F\n",
        "import transformers\n",
        "from sklearn.metrics import roc_auc_score\n",
        "from torch.autograd import Variable"
      ],
      "execution_count": 0,
      "outputs": [
        {
          "output_type": "stream",
          "text": [
            "Requirement already satisfied: transformers in /usr/local/lib/python3.6/dist-packages (2.8.0)\n",
            "Requirement already satisfied: sentencepiece in /usr/local/lib/python3.6/dist-packages (from transformers) (0.1.85)\n",
            "Requirement already satisfied: filelock in /usr/local/lib/python3.6/dist-packages (from transformers) (3.0.12)\n",
            "Requirement already satisfied: sacremoses in /usr/local/lib/python3.6/dist-packages (from transformers) (0.0.41)\n",
            "Requirement already satisfied: tokenizers==0.5.2 in /usr/local/lib/python3.6/dist-packages (from transformers) (0.5.2)\n",
            "Requirement already satisfied: boto3 in /usr/local/lib/python3.6/dist-packages (from transformers) (1.12.40)\n",
            "Requirement already satisfied: dataclasses; python_version < \"3.7\" in /usr/local/lib/python3.6/dist-packages (from transformers) (0.7)\n",
            "Requirement already satisfied: numpy in /usr/local/lib/python3.6/dist-packages (from transformers) (1.18.2)\n",
            "Requirement already satisfied: regex!=2019.12.17 in /usr/local/lib/python3.6/dist-packages (from transformers) (2019.12.20)\n",
            "Requirement already satisfied: requests in /usr/local/lib/python3.6/dist-packages (from transformers) (2.21.0)\n",
            "Requirement already satisfied: tqdm>=4.27 in /usr/local/lib/python3.6/dist-packages (from transformers) (4.38.0)\n",
            "Requirement already satisfied: joblib in /usr/local/lib/python3.6/dist-packages (from sacremoses->transformers) (0.14.1)\n",
            "Requirement already satisfied: click in /usr/local/lib/python3.6/dist-packages (from sacremoses->transformers) (7.1.1)\n",
            "Requirement already satisfied: six in /usr/local/lib/python3.6/dist-packages (from sacremoses->transformers) (1.12.0)\n",
            "Requirement already satisfied: jmespath<1.0.0,>=0.7.1 in /usr/local/lib/python3.6/dist-packages (from boto3->transformers) (0.9.5)\n",
            "Requirement already satisfied: s3transfer<0.4.0,>=0.3.0 in /usr/local/lib/python3.6/dist-packages (from boto3->transformers) (0.3.3)\n",
            "Requirement already satisfied: botocore<1.16.0,>=1.15.40 in /usr/local/lib/python3.6/dist-packages (from boto3->transformers) (1.15.40)\n",
            "Requirement already satisfied: chardet<3.1.0,>=3.0.2 in /usr/local/lib/python3.6/dist-packages (from requests->transformers) (3.0.4)\n",
            "Requirement already satisfied: urllib3<1.25,>=1.21.1 in /usr/local/lib/python3.6/dist-packages (from requests->transformers) (1.24.3)\n",
            "Requirement already satisfied: certifi>=2017.4.17 in /usr/local/lib/python3.6/dist-packages (from requests->transformers) (2020.4.5.1)\n",
            "Requirement already satisfied: idna<2.9,>=2.5 in /usr/local/lib/python3.6/dist-packages (from requests->transformers) (2.8)\n",
            "Requirement already satisfied: docutils<0.16,>=0.10 in /usr/local/lib/python3.6/dist-packages (from botocore<1.16.0,>=1.15.40->boto3->transformers) (0.15.2)\n",
            "Requirement already satisfied: python-dateutil<3.0.0,>=2.1 in /usr/local/lib/python3.6/dist-packages (from botocore<1.16.0,>=1.15.40->boto3->transformers) (2.8.1)\n"
          ],
          "name": "stdout"
        }
      ]
    },
    {
      "cell_type": "code",
      "metadata": {
        "id": "U8jrTX7WPY7K",
        "colab_type": "code",
        "colab": {}
      },
      "source": [
        "model_class = transformers.BertModel\n",
        "tokenizer_class = transformers.BertTokenizer\n",
        "pretrained_weights='bert-base-uncased'\n",
        "# Load pretrained model/tokenizer\n",
        "tokenizer = tokenizer_class.from_pretrained(pretrained_weights)\n",
        "bert_model = model_class.from_pretrained(pretrained_weights)"
      ],
      "execution_count": 0,
      "outputs": []
    },
    {
      "cell_type": "code",
      "metadata": {
        "id": "fsbDsBK0Q3Jn",
        "colab_type": "code",
        "colab": {}
      },
      "source": [
        "max_seq = 100\n",
        "target_columns = [\"hateful\", \"abusive\", \"neutral\"]"
      ],
      "execution_count": 0,
      "outputs": []
    },
    {
      "cell_type": "code",
      "metadata": {
        "id": "edgHuVIvQ34-",
        "colab_type": "code",
        "colab": {}
      },
      "source": [
        "def tokenize_text(df, max_seq):\n",
        "    return [\n",
        "        tokenizer.encode(text, add_special_tokens=True)[:max_seq] for text in df.tweet.values\n",
        "    ]\n",
        "\n",
        "\n",
        "def pad_text(tokenized_text, max_seq):\n",
        "    return np.array([el + [0] * (max_seq - len(el)) for el in tokenized_text])\n",
        "\n",
        "\n",
        "def tokenize_and_pad_text(df, max_seq):\n",
        "    tokenized_text = tokenize_text(df, max_seq)\n",
        "    padded_text = pad_text(tokenized_text, max_seq)\n",
        "    return torch.tensor(padded_text)\n",
        "\n",
        "\n",
        "def targets_to_tensor(df):\n",
        "    return torch.tensor(df[target_columns].values, dtype=torch.float32)"
      ],
      "execution_count": 0,
      "outputs": []
    },
    {
      "cell_type": "code",
      "metadata": {
        "id": "P0jClTAFc0at",
        "colab_type": "code",
        "colab": {}
      },
      "source": [
        "train_indices = tokenize_and_pad_text(train, max_seq)\n",
        "val_indices = tokenize_and_pad_text(validation, max_seq)\n",
        "test_indices = tokenize_and_pad_text(test, max_seq)"
      ],
      "execution_count": 0,
      "outputs": []
    },
    {
      "cell_type": "code",
      "metadata": {
        "id": "nWOWzVNhRla-",
        "colab_type": "code",
        "colab": {}
      },
      "source": [
        "with torch.no_grad():\n",
        "  for i in range(10):\n",
        "    if i == 0:\n",
        "      x_train = bert_model(train_indices[:1000])[0]\n",
        "      x_val = bert_model(val_indices[:1000])[0]\n",
        "      x_test = bert_model(test_indices[:1000])[0]\n",
        "    else:\n",
        "      x_train = torch.cat((x_train,bert_model(train_indices[i*1000:(i+1)*1000])[0]),dim=0)\n",
        "      x_val = torch.cat((x_val,bert_model(val_indices[i*1000:(i+1)*1000])[0]),dim=0)\n",
        "      x_test = torch.cat((x_test,bert_model(test_indices[i*1000:(i+1)*1000])[0]),dim=0)"
      ],
      "execution_count": 0,
      "outputs": []
    },
    {
      "cell_type": "code",
      "metadata": {
        "id": "gp_I9K_iRoUn",
        "colab_type": "code",
        "colab": {}
      },
      "source": [
        "y_train = targets_to_tensor(train)\n",
        "y_val = targets_to_tensor(validation)\n",
        "y_test = targets_to_tensor(test)"
      ],
      "execution_count": 0,
      "outputs": []
    },
    {
      "cell_type": "code",
      "metadata": {
        "id": "4_8PsrehAp0A",
        "colab_type": "code",
        "colab": {}
      },
      "source": [
        "torch.save(x_train, 'x_train.pt')\n",
        "torch.save(x_val, 'x_val.pt')\n",
        "torch.save(x_test, 'x_test.pt')\n",
        "torch.save(y_train, 'y_train.pt')\n",
        "torch.save(y_val, 'y_val.pt')\n",
        "torch.save(y_test, 'y_test.pt')"
      ],
      "execution_count": 0,
      "outputs": []
    },
    {
      "cell_type": "code",
      "metadata": {
        "id": "EaJv6kSXaQZc",
        "colab_type": "code",
        "colab": {}
      },
      "source": [
        "class KimCNN(nn.Module):\n",
        "    def __init__(self, embed_num, embed_dim, class_num, kernel_num, kernel_sizes, dropout, static):\n",
        "        super(KimCNN, self).__init__()\n",
        "\n",
        "        V = embed_num\n",
        "        D = embed_dim\n",
        "        C = class_num\n",
        "        Co = kernel_num\n",
        "        Ks = kernel_sizes\n",
        "        \n",
        "        self.static = static\n",
        "        self.embed = nn.Embedding(V, D)\n",
        "        self.convs1 = nn.ModuleList([nn.Conv2d(1, Co, (K, D)) for K in Ks])\n",
        "        self.dropout = nn.Dropout(dropout)\n",
        "        self.fc1 = nn.Linear(len(Ks) * Co, C)\n",
        "        self.sigmoid = nn.Sigmoid()\n",
        "        \n",
        "\n",
        "    def forward(self, x):\n",
        "        if self.static:\n",
        "            x = Variable(x)\n",
        "\n",
        "        x = x.unsqueeze(1)  # (N, Ci, W, D)\n",
        "\n",
        "        x = [F.relu(conv(x)).squeeze(3) for conv in self.convs1]  # [(N, Co, W), ...]*len(Ks)\n",
        "\n",
        "        x = [F.max_pool1d(i, i.size(2)).squeeze(2) for i in x]  # [(N, Co), ...]*len(Ks)\n",
        "\n",
        "        x = torch.cat(x, 1)\n",
        "        x = self.dropout(x)  # (N, len(Ks)*Co)\n",
        "        logit = self.fc1(x)  # (N, C)\n",
        "        output = self.sigmoid(logit)\n",
        "        return output"
      ],
      "execution_count": 0,
      "outputs": []
    },
    {
      "cell_type": "code",
      "metadata": {
        "id": "JJnXdZodaQZe",
        "colab_type": "code",
        "colab": {}
      },
      "source": [
        "embed_num = x_train.shape[1]\n",
        "embed_dim = x_train.shape[2]\n",
        "class_num = y_train.shape[1]\n",
        "kernel_num = 3\n",
        "kernel_sizes = [2, 3, 4]\n",
        "dropout = 0.5\n",
        "static = True"
      ],
      "execution_count": 0,
      "outputs": []
    },
    {
      "cell_type": "code",
      "metadata": {
        "id": "967mWOwGaQZh",
        "colab_type": "code",
        "colab": {}
      },
      "source": [
        "model = KimCNN(\n",
        "    embed_num=embed_num,\n",
        "    embed_dim=embed_dim,\n",
        "    class_num=class_num,\n",
        "    kernel_num=kernel_num,\n",
        "    kernel_sizes=kernel_sizes,\n",
        "    dropout=dropout,\n",
        "    static=static,\n",
        ")"
      ],
      "execution_count": 0,
      "outputs": []
    },
    {
      "cell_type": "code",
      "metadata": {
        "id": "MTYCHFIvaQZj",
        "colab_type": "code",
        "colab": {}
      },
      "source": [
        "n_epochs = 10\n",
        "batch_size = 10\n",
        "lr = 0.001\n",
        "optimizer = torch.optim.Adam(model.parameters(), lr=lr)\n",
        "loss_fn = nn.BCELoss()"
      ],
      "execution_count": 0,
      "outputs": []
    },
    {
      "cell_type": "code",
      "metadata": {
        "id": "3zsjBVSuaQZl",
        "colab_type": "code",
        "colab": {}
      },
      "source": [
        "def generate_batch_data(x, y, batch_size):\n",
        "    i, batch = 0, 0\n",
        "    for batch, i in enumerate(range(0, len(x) - batch_size, batch_size), 1):\n",
        "        x_batch = x[i : i + batch_size]\n",
        "        y_batch = y[i : i + batch_size]\n",
        "        yield x_batch, y_batch, batch\n",
        "    if i + batch_size < len(x):\n",
        "        yield x[i + batch_size :], y[i + batch_size :], batch + 1\n",
        "    if batch == 0:\n",
        "        yield x, y, 1"
      ],
      "execution_count": 0,
      "outputs": []
    },
    {
      "cell_type": "code",
      "metadata": {
        "id": "VepbAs6eaQZn",
        "colab_type": "code",
        "outputId": "746b820b-7fc2-465c-df1c-550b58d225af",
        "colab": {
          "base_uri": "https://localhost:8080/",
          "height": 187
        }
      },
      "source": [
        "train_losses, val_losses = [], []\n",
        "\n",
        "for epoch in range(n_epochs):\n",
        "    start_time = time.time()\n",
        "    train_loss = 0\n",
        "\n",
        "    model.train(True)\n",
        "    for x_batch, y_batch, batch in generate_batch_data(x_train, y_train, batch_size):\n",
        "        y_pred = model(x_batch)\n",
        "        optimizer.zero_grad()\n",
        "        loss = loss_fn(y_pred, y_batch)\n",
        "        loss.backward()\n",
        "        optimizer.step()\n",
        "        train_loss += loss.item()\n",
        "\n",
        "    train_loss /= batch\n",
        "    train_losses.append(train_loss)\n",
        "    elapsed = time.time() - start_time\n",
        "\n",
        "    model.eval() # disable dropout for deterministic output\n",
        "    with torch.no_grad(): # deactivate autograd engine to reduce memory usage and speed up computations\n",
        "        val_loss, batch = 0, 1\n",
        "        for x_batch, y_batch, batch in generate_batch_data(x_val, y_val, batch_size):\n",
        "            y_pred = model(x_batch)\n",
        "            loss = loss_fn(y_pred, y_batch)\n",
        "            val_loss += loss.item()\n",
        "        val_loss /= batch\n",
        "        val_losses.append(val_loss)\n",
        "\n",
        "    print(\n",
        "        \"Epoch %d Train loss: %.2f. Validation loss: %.2f. Elapsed time: %.2fs.\"\n",
        "        % (epoch + 1, train_losses[-1], val_losses[-1], elapsed)\n",
        "    )"
      ],
      "execution_count": 0,
      "outputs": [
        {
          "output_type": "stream",
          "text": [
            "Epoch 1 Train loss: 0.54. Validation loss: 0.42. Elapsed time: 49.22s.\n",
            "Epoch 2 Train loss: 0.48. Validation loss: 0.40. Elapsed time: 48.55s.\n",
            "Epoch 3 Train loss: 0.45. Validation loss: 0.39. Elapsed time: 48.57s.\n",
            "Epoch 4 Train loss: 0.44. Validation loss: 0.39. Elapsed time: 48.65s.\n",
            "Epoch 5 Train loss: 0.43. Validation loss: 0.38. Elapsed time: 48.58s.\n",
            "Epoch 6 Train loss: 0.42. Validation loss: 0.39. Elapsed time: 48.42s.\n",
            "Epoch 7 Train loss: 0.42. Validation loss: 0.40. Elapsed time: 50.66s.\n",
            "Epoch 8 Train loss: 0.42. Validation loss: 0.40. Elapsed time: 48.63s.\n",
            "Epoch 9 Train loss: 0.41. Validation loss: 0.39. Elapsed time: 48.44s.\n",
            "Epoch 10 Train loss: 0.40. Validation loss: 0.39. Elapsed time: 48.36s.\n"
          ],
          "name": "stdout"
        }
      ]
    },
    {
      "cell_type": "code",
      "metadata": {
        "id": "1dgFHXhLLrdr",
        "colab_type": "code",
        "outputId": "0d14a65c-634c-4c21-d59a-e90a84652794",
        "colab": {
          "base_uri": "https://localhost:8080/",
          "height": 298
        }
      },
      "source": [
        "plt.plot(train_losses, label=\"Training loss\")\n",
        "plt.plot(val_losses, label=\"Validation loss\")\n",
        "plt.legend()\n",
        "plt.title(\"Losses\")"
      ],
      "execution_count": 0,
      "outputs": [
        {
          "output_type": "execute_result",
          "data": {
            "text/plain": [
              "Text(0.5, 1.0, 'Losses')"
            ]
          },
          "metadata": {
            "tags": []
          },
          "execution_count": 64
        },
        {
          "output_type": "display_data",
          "data": {
            "image/png": "[encoded data removed]",
            "text/plain": [
              "<Figure size 432x288 with 1 Axes>"
            ]
          },
          "metadata": {
            "tags": [],
            "needs_background": "light"
          }
        }
      ]
    },
    {
      "cell_type": "code",
      "metadata": {
        "id": "7EOEsP3gMBl-",
        "colab_type": "code",
        "colab": {}
      },
      "source": [
        "model.eval() # disable dropout for deterministic output\n",
        "with torch.no_grad(): # deactivate autograd engine to reduce memory usage and speed up computations\n",
        "    y_preds = []\n",
        "    batch = 0\n",
        "    for x_batch, y_batch, batch in generate_batch_data(x_test, y_test, batch_size):\n",
        "        y_pred = model(x_batch)\n",
        "        print(y_pred)\n",
        "        y_preds.extend(y_pred.cpu().numpy().tolist())\n",
        "    y_preds_np = np.array(y_preds)"
      ],
      "execution_count": 0,
      "outputs": []
    },
    {
      "cell_type": "code",
      "metadata": {
        "id": "zJLQzEOYveCo",
        "colab_type": "code",
        "outputId": "d36155b4-2085-46a9-86bb-d01f9d0079d0",
        "colab": {
          "base_uri": "https://localhost:8080/",
          "height": 142
        }
      },
      "source": [
        "auc_scores = roc_auc_score(y_test_np, y_preds_np, average=None)\n",
        "df_accuracy = pd.DataFrame({\"label\": target_columns, \"auc\": auc_scores})\n",
        "df_accuracy.sort_values('auc')[::-1]"
      ],
      "execution_count": 0,
      "outputs": [
        {
          "output_type": "execute_result",
          "data": {
            "text/html": [
              "<div>\n",
              "<style scoped>\n",
              "    .dataframe tbody tr th:only-of-type {\n",
              "        vertical-align: middle;\n",
              "    }\n",
              "\n",
              "    .dataframe tbody tr th {\n",
              "        vertical-align: top;\n",
              "    }\n",
              "\n",
              "    .dataframe thead th {\n",
              "        text-align: right;\n",
              "    }\n",
              "</style>\n",
              "<table border=\"1\" class=\"dataframe\">\n",
              "  <thead>\n",
              "    <tr style=\"text-align: right;\">\n",
              "      <th></th>\n",
              "      <th>label</th>\n",
              "      <th>auc</th>\n",
              "    </tr>\n",
              "  </thead>\n",
              "  <tbody>\n",
              "    <tr>\n",
              "      <th>2</th>\n",
              "      <td>neutral</td>\n",
              "      <td>0.936644</td>\n",
              "    </tr>\n",
              "    <tr>\n",
              "      <th>1</th>\n",
              "      <td>abusive</td>\n",
              "      <td>0.902222</td>\n",
              "    </tr>\n",
              "    <tr>\n",
              "      <th>0</th>\n",
              "      <td>hateful</td>\n",
              "      <td>0.849197</td>\n",
              "    </tr>\n",
              "  </tbody>\n",
              "</table>\n",
              "</div>"
            ],
            "text/plain": [
              "     label       auc\n",
              "2  neutral  0.936644\n",
              "1  abusive  0.902222\n",
              "0  hateful  0.849197"
            ]
          },
          "metadata": {
            "tags": []
          },
          "execution_count": 70
        }
      ]
    }
  ]
}